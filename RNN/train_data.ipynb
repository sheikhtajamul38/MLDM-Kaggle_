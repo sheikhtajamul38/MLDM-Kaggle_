{
  "metadata": {
    "kernelspec": {
      "display_name": "Python 3",
      "language": "python",
      "name": "python3"
    },
    "language_info": {
      "codemirror_mode": {
        "name": "ipython",
        "version": 3
      },
      "file_extension": ".py",
      "mimetype": "text/x-python",
      "name": "python",
      "nbconvert_exporter": "python",
      "pygments_lexer": "ipython3",
      "version": "3.10.12"
    },
    "papermill": {
      "default_parameters": {},
      "duration": 4591.197141,
      "end_time": "2023-10-14T04:00:21.403853",
      "environment_variables": {},
      "exception": null,
      "input_path": "__notebook__.ipynb",
      "output_path": "__notebook__.ipynb",
      "parameters": {},
      "start_time": "2023-10-14T02:43:50.206712",
      "version": "2.4.0"
    },
    "kaggle": {
      "accelerator": "none",
      "dataSources": [],
      "dockerImageVersionId": 30626,
      "isInternetEnabled": true,
      "language": "python",
      "sourceType": "notebook",
      "isGpuEnabled": false
    },
    "colab": {
      "provenance": []
    }
  },
  "nbformat_minor": 5,
  "nbformat": 4,
  "cells": [
    {
      "cell_type": "markdown",
      "source": [
        "Finding Critical Points using RNNs\n",
        "\n",
        "Credits:\n",
        "\n",
        " - idea: https://www.kaggle.com/competitions/child-mind-institute-detect-sleep-states/discussion/441470\n",
        " - dataloader: https://www.kaggle.com/code/henriupton/efficient-loading-memory-usage-visualizations-cmi\n",
        " - arch: https://www.kaggle.com/competitions/tlvmc-parkinsons-freezing-gait-prediction/discussion/416410"
      ],
      "metadata": {
        "papermill": {
          "duration": 0.00298,
          "end_time": "2023-10-14T02:43:53.188300",
          "exception": false,
          "start_time": "2023-10-14T02:43:53.185320",
          "status": "completed"
        },
        "tags": [],
        "id": "CFc-d97bEhmh"
      },
      "id": "CFc-d97bEhmh"
    },
    {
      "cell_type": "markdown",
      "source": [
        "# 1. Configuration"
      ],
      "metadata": {
        "papermill": {
          "duration": 0.002408,
          "end_time": "2023-10-14T02:43:53.193450",
          "exception": false,
          "start_time": "2023-10-14T02:43:53.191042",
          "status": "completed"
        },
        "tags": [],
        "id": "DS3BCDezEhmj"
      },
      "id": "DS3BCDezEhmj"
    },
    {
      "cell_type": "code",
      "source": [
        "import pandas as pd\n",
        "import numpy as np\n",
        "import gc\n",
        "import time\n",
        "import json\n",
        "from datetime import datetime\n",
        "import matplotlib.pyplot as plt\n",
        "import os\n",
        "import joblib\n",
        "import random\n",
        "import math\n",
        "from tqdm.auto import tqdm\n",
        "\n",
        "from scipy.interpolate import interp1d\n",
        "\n",
        "from math import pi, sqrt, exp\n",
        "import sklearn,sklearn.model_selection\n",
        "import torch\n",
        "from torch import nn,Tensor\n",
        "import torch.nn.functional as F\n",
        "from torch.utils.data import DataLoader, Dataset, SubsetRandomSampler\n",
        "from sklearn.metrics import average_precision_score\n",
        "from timm.scheduler import CosineLRScheduler\n",
        "plt.style.use(\"ggplot\")\n",
        "\n",
        "from pyarrow.parquet import ParquetFile\n",
        "import pyarrow as pa\n",
        "import ctypes\n",
        "\n",
        "def normalize(y):\n",
        "    mean = y[:,0].mean().item()\n",
        "    std = y[:,0].std().item()\n",
        "    y[:,0] = (y[:,0]-mean)/(std+1e-16)\n",
        "    mean = y[:,1].mean().item()\n",
        "    std = y[:,1].std().item()\n",
        "    y[:,1] = (y[:,1]-mean)/(std+1e-16)\n",
        "    return y\n",
        "\n",
        "device = 'cuda' if torch.cuda.is_available() else 'cpu'"
      ],
      "metadata": {
        "_cell_guid": "b1076dfc-b9ad-4769-8c92-a6c4dae69d19",
        "_kg_hide-input": true,
        "_uuid": "8f2839f25d086af736a60e9eeb907d3b93b6e0e5",
        "execution": {
          "iopub.execute_input": "2023-10-14T02:43:53.200052Z",
          "iopub.status.busy": "2023-10-14T02:43:53.199717Z",
          "iopub.status.idle": "2023-10-14T02:44:00.013271Z",
          "shell.execute_reply": "2023-10-14T02:44:00.012311Z"
        },
        "papermill": {
          "duration": 6.819536,
          "end_time": "2023-10-14T02:44:00.015368",
          "exception": false,
          "start_time": "2023-10-14T02:43:53.195832",
          "status": "completed"
        },
        "tags": [],
        "id": "Odk30gHdEhmk",
        "outputId": "d295acfa-7ff7-4185-8e34-8adfcd66a06c"
      },
      "execution_count": null,
      "outputs": [
        {
          "name": "stderr",
          "output_type": "stream",
          "text": "/opt/conda/lib/python3.10/site-packages/scipy/__init__.py:146: UserWarning: A NumPy version >=1.16.5 and <1.23.0 is required for this version of SciPy (detected version 1.23.5\n\n  warnings.warn(f\"A NumPy version >={np_minversion} and <{np_maxversion}\"\n"
        }
      ],
      "id": "Odk30gHdEhmk"
    },
    {
      "cell_type": "code",
      "source": [
        "EPOCHS = 5\n",
        "WARMUP_PROP = 0.2\n",
        "BS = 1\n",
        "WORKERS = 4\n",
        "TRAIN_PROP = 0.9\n",
        "max_chunk_size = 150000\n",
        "if device=='cpu':\n",
        "    torch.set_num_interop_threads(WORKERS)\n",
        "    torch.set_num_threads(WORKERS)"
      ],
      "metadata": {
        "execution": {
          "iopub.execute_input": "2023-10-14T02:44:00.022809Z",
          "iopub.status.busy": "2023-10-14T02:44:00.022016Z",
          "iopub.status.idle": "2023-10-14T02:44:00.027102Z",
          "shell.execute_reply": "2023-10-14T02:44:00.026334Z"
        },
        "papermill": {
          "duration": 0.010362,
          "end_time": "2023-10-14T02:44:00.028660",
          "exception": false,
          "start_time": "2023-10-14T02:44:00.018298",
          "status": "completed"
        },
        "tags": [],
        "id": "jRS5s0UREhmm"
      },
      "execution_count": null,
      "outputs": [],
      "id": "jRS5s0UREhmm"
    },
    {
      "cell_type": "code",
      "source": [
        "import os\n",
        "import matplotlib.pyplot as plt\n",
        "\n",
        "def plot_history(history, model_path=\".\", show=True):\n",
        "    epochs = range(1, len(history[\"train_loss\"]) + 1)\n",
        "\n",
        "    # Plot Training and Validation Loss\n",
        "    plt.figure()\n",
        "    plt.plot(epochs, history[\"train_loss\"], label=\"Training Loss\")\n",
        "    plt.plot(epochs, history[\"valid_loss\"], label=\"Validation Loss\")\n",
        "    plt.title(\"Evolution of Loss\")\n",
        "    plt.xlabel(\"Epochs\")\n",
        "    plt.ylabel(\"Loss\")\n",
        "    plt.legend()\n",
        "    plt.savefig(os.path.join(model_path, \"loss_evo.png\"))\n",
        "\n",
        "    if show:\n",
        "        plt.show()\n",
        "\n",
        "    plt.close()\n",
        "\n",
        "    # Plot Learning Rate Evolution\n",
        "    plt.figure()\n",
        "    plt.plot(epochs, history[\"lr\"])\n",
        "    plt.title(\"Learning Rate Evolution\")\n",
        "    plt.xlabel(\"Epochs\")\n",
        "    plt.ylabel(\"Learning Rate\")\n",
        "    plt.savefig(os.path.join(model_path, \"lr_evo.png\"))\n",
        "\n",
        "    if show:\n",
        "        plt.show()\n",
        "\n",
        "    plt.close()\n"
      ],
      "metadata": {
        "_kg_hide-input": true,
        "execution": {
          "iopub.execute_input": "2023-10-14T02:44:00.034867Z",
          "iopub.status.busy": "2023-10-14T02:44:00.034616Z",
          "iopub.status.idle": "2023-10-14T02:44:00.040910Z",
          "shell.execute_reply": "2023-10-14T02:44:00.039972Z"
        },
        "papermill": {
          "duration": 0.011177,
          "end_time": "2023-10-14T02:44:00.042535",
          "exception": false,
          "start_time": "2023-10-14T02:44:00.031358",
          "status": "completed"
        },
        "tags": [],
        "id": "9aJlY3DEEhmm"
      },
      "execution_count": null,
      "outputs": [],
      "id": "9aJlY3DEEhmm"
    },
    {
      "cell_type": "code",
      "source": [
        "import torch.nn as nn\n",
        "import torch.nn.functional as F\n",
        "\n",
        "class ResidualBiGRU(nn.Module):\n",
        "    def __init__(self, hidden_size, n_layers=1, bidir=True):\n",
        "        super(ResidualBiGRU, self).__init__()\n",
        "\n",
        "        self.hidden_size = hidden_size\n",
        "        self.n_layers = n_layers\n",
        "\n",
        "        self.gru = nn.GRU(\n",
        "            hidden_size,\n",
        "            hidden_size,\n",
        "            n_layers,\n",
        "            batch_first=True,\n",
        "            bidirectional=bidir,\n",
        "        )\n",
        "        dir_factor = 2 if bidir else 1\n",
        "        self.fc1 = nn.Linear(\n",
        "            hidden_size * dir_factor, hidden_size * dir_factor * 2\n",
        "        )\n",
        "        self.ln1 = nn.LayerNorm(hidden_size * dir_factor * 2)\n",
        "        self.fc2 = nn.Linear(hidden_size * dir_factor * 2, hidden_size)\n",
        "        self.ln2 = nn.LayerNorm(hidden_size)\n",
        "\n",
        "    def forward(self, x, h=None):\n",
        "        res, new_h = self.gru(x, h)\n",
        "        res = self.fc1(res)\n",
        "        res = self.ln1(res)\n",
        "        res = F.relu(res)\n",
        "\n",
        "        res = self.fc2(res)\n",
        "        res = self.ln2(res)\n",
        "        res = F.relu(res)\n",
        "\n",
        "        res = res + x  # skip connection\n",
        "\n",
        "        return res, new_h\n",
        "\n",
        "class MultiResidualBiGRU(nn.Module):\n",
        "    def __init__(self, input_size, hidden_size, out_size, n_layers, bidir=True):\n",
        "        super(MultiResidualBiGRU, self).__init__()\n",
        "\n",
        "        self.input_size = input_size\n",
        "        self.hidden_size = hidden_size\n",
        "        self.out_size = out_size\n",
        "        self.n_layers = n_layers\n",
        "\n",
        "        self.fc_in = nn.Linear(input_size, hidden_size)\n",
        "        self.ln = nn.LayerNorm(hidden_size)\n",
        "        self.res_bigrus = nn.ModuleList(\n",
        "            [ResidualBiGRU(hidden_size, n_layers=1, bidir=bidir) for _ in range(n_layers)]\n",
        "        )\n",
        "        self.fc_out = nn.Linear(hidden_size, out_size)\n",
        "\n",
        "    def forward(self, x, h=None):\n",
        "        if h is None:\n",
        "            h = [None for _ in range(self.n_layers)]\n",
        "\n",
        "        x = self.fc_in(x)\n",
        "        x = self.ln(x)\n",
        "        x = F.relu(x)\n",
        "\n",
        "        new_h = []\n",
        "        for i, res_bigru in enumerate(self.res_bigrus):\n",
        "            x, new_hi = res_bigru(x, h[i])\n",
        "            new_h.append(new_hi)\n",
        "\n",
        "        x = self.fc_out(x)\n",
        "\n",
        "        return x, new_h  # log probabilities + hidden states\n"
      ],
      "metadata": {
        "_kg_hide-input": true,
        "_kg_hide-output": true,
        "execution": {
          "iopub.execute_input": "2023-10-14T02:44:00.048424Z",
          "iopub.status.busy": "2023-10-14T02:44:00.048201Z",
          "iopub.status.idle": "2023-10-14T02:44:00.057650Z",
          "shell.execute_reply": "2023-10-14T02:44:00.056812Z"
        },
        "papermill": {
          "duration": 0.014307,
          "end_time": "2023-10-14T02:44:00.059289",
          "exception": false,
          "start_time": "2023-10-14T02:44:00.044982",
          "status": "completed"
        },
        "tags": [],
        "id": "Wy2yrLkhEhmn"
      },
      "execution_count": null,
      "outputs": [],
      "id": "Wy2yrLkhEhmn"
    },
    {
      "cell_type": "markdown",
      "source": [
        "# Define Dataset"
      ],
      "metadata": {
        "papermill": {
          "duration": 0.002319,
          "end_time": "2023-10-14T02:44:00.064276",
          "exception": false,
          "start_time": "2023-10-14T02:44:00.061957",
          "status": "completed"
        },
        "tags": [],
        "id": "zBhbZT2zEhmn"
      },
      "id": "zBhbZT2zEhmn"
    },
    {
      "cell_type": "code",
      "source": [
        "import torch\n",
        "from torch.utils.data import Dataset\n",
        "import numpy as np\n",
        "import joblib\n",
        "from math import sqrt, exp, pi\n",
        "import gc\n",
        "\n",
        "SIGMA = 720  # average length of day is 24*60*12 = 17280 for comparison\n",
        "SAMPLE_FREQ = 12  # 1 obs per minute\n",
        "\n",
        "\n",
        "class SleepDataset(Dataset):\n",
        "    def __init__(self, file):\n",
        "        self.targets, self.data, self.ids = joblib.load(file)\n",
        "\n",
        "    def downsample_seq_generate_features(self, feat, downsample_factor=SAMPLE_FREQ):\n",
        "        # downsample data and generate features\n",
        "        if len(feat) % SAMPLE_FREQ == 0:\n",
        "            feat = np.concatenate([feat, np.zeros(SAMPLE_FREQ - ((len(feat)) % SAMPLE_FREQ)) + feat[-1]])\n",
        "        feat = np.reshape(feat, (-1, SAMPLE_FREQ))\n",
        "        feat_mean = np.mean(feat, 1)\n",
        "        feat_std = np.std(feat, 1)\n",
        "        feat_median = np.median(feat, 1)\n",
        "        feat_max = np.max(feat, 1)\n",
        "        feat_min = np.min(feat, 1)\n",
        "\n",
        "        return np.dstack([feat_mean, feat_std, feat_median, feat_max, feat_min])[0]\n",
        "\n",
        "    def downsample_seq(self, feat, downsample_factor=SAMPLE_FREQ):\n",
        "        # downsample data\n",
        "        if len(feat) % SAMPLE_FREQ == 0:\n",
        "            feat = np.concatenate([feat, np.zeros(SAMPLE_FREQ - ((len(feat)) % SAMPLE_FREQ)) + feat[-1]])\n",
        "        feat = np.reshape(feat, (-1, SAMPLE_FREQ))\n",
        "        feat_mean = np.mean(feat, 1)\n",
        "        return feat_mean\n",
        "\n",
        "    def gauss(self, n=SIGMA, sigma=SIGMA * 0.15):\n",
        "        # Gaussian distribution function\n",
        "        r = range(-int(n / 2), int(n / 2) + 1)\n",
        "        return [1 / (sigma * sqrt(2 * pi)) * exp(-float(x) ** 2 / (2 * sigma ** 2)) for x in r]\n",
        "\n",
        "    def __len__(self):\n",
        "        return len(self.targets)\n",
        "\n",
        "    def __getitem__(self, index):\n",
        "        X = self.data[index][['anglez', 'enmo']]\n",
        "        y = self.targets[index]\n",
        "\n",
        "        # turn target inds into array\n",
        "        target_gaussian = np.zeros((len(X), 2))\n",
        "        for s, e in y:\n",
        "            st1, st2 = max(0, s - SIGMA // 2), s + SIGMA // 2 + 1\n",
        "            ed1, ed2 = e - SIGMA // 2, min(len(X), e + SIGMA // 2 + 1)\n",
        "            target_gaussian[st1:st2, 0] = self.gauss()[st1 - (s - SIGMA // 2):]\n",
        "            target_gaussian[ed1:ed2, 1] = self.gauss()[:SIGMA + 1 - ((e + SIGMA // 2 + 1) - ed2)]\n",
        "            gc.collect()\n",
        "        y = target_gaussian\n",
        "        gc.collect()\n",
        "        X = np.concatenate([self.downsample_seq_generate_features(X.values[:, i], SAMPLE_FREQ) for i in range(X.shape[1])],\n",
        "                           -1)\n",
        "        gc.collect()\n",
        "        y = np.dstack([self.downsample_seq(y[:, i], SAMPLE_FREQ) for i in range(y.shape[1])])[0]\n",
        "        gc.collect()\n",
        "        y = normalize(torch.from_numpy(y))\n",
        "        X = torch.from_numpy(X)\n",
        "        return X, y\n",
        "\n",
        "\n",
        "train_ds = SleepDataset('/kaggle/input/sleep-critical-point-prepare-data/train_data.pkl')\n"
      ],
      "metadata": {
        "execution": {
          "iopub.execute_input": "2023-10-14T02:44:00.070557Z",
          "iopub.status.busy": "2023-10-14T02:44:00.070331Z",
          "iopub.status.idle": "2023-10-14T02:44:08.573820Z",
          "shell.execute_reply": "2023-10-14T02:44:08.572819Z"
        },
        "papermill": {
          "duration": 8.509063,
          "end_time": "2023-10-14T02:44:08.575957",
          "exception": false,
          "start_time": "2023-10-14T02:44:00.066894",
          "status": "completed"
        },
        "tags": [],
        "id": "1e0yQmyvEhmo"
      },
      "execution_count": null,
      "outputs": [],
      "id": "1e0yQmyvEhmo"
    },
    {
      "cell_type": "markdown",
      "source": [
        "# Train and Eval"
      ],
      "metadata": {
        "papermill": {
          "duration": 0.002405,
          "end_time": "2023-10-14T02:44:08.581265",
          "exception": false,
          "start_time": "2023-10-14T02:44:08.578860",
          "status": "completed"
        },
        "tags": [],
        "id": "uEoC5QmFEhmo"
      },
      "id": "uEoC5QmFEhmo"
    },
    {
      "cell_type": "code",
      "source": [
        "import torch\n",
        "from torch.utils.data.sampler import SubsetRandomSampler\n",
        "import time\n",
        "from your_module import MultiResidualBiGRU  # Replace 'your_module' with the actual module containing MultiResidualBiGRU\n",
        "from your_module import CosineLRScheduler  # Replace 'your_module' with the actual module containing CosineLRScheduler\n",
        "import numpy as np\n",
        "\n",
        "TRAIN_PROP = 0.8  # Replace with your actual TRAIN_PROP value\n",
        "EPOCHS = 10  # Replace with your actual number of epochs\n",
        "WARMUP_PROP = 0.1  # Replace with your actual WARMUP_PROP value\n",
        "device = torch.device(\"cuda\" if torch.cuda.is_available() else \"cpu\")  # Adjust accordingly\n",
        "\n",
        "train_size = int(TRAIN_PROP * len(train_ds))\n",
        "valid_size = len(train_ds) - train_size\n",
        "indices = torch.randperm(len(train_ds))\n",
        "train_sampler = SubsetRandomSampler(indices[:train_size])\n",
        "valid_sampler = SubsetRandomSampler(indices[train_size: train_size + valid_size])\n",
        "steps = train_size * EPOCHS\n",
        "warmup_steps = int(steps * WARMUP_PROP)\n",
        "model = MultiResidualBiGRU(input_size=10, hidden_size=64, out_size=2, n_layers=5).to(device)\n",
        "optimizer = torch.optim.Adam(model.parameters(), lr=1e-3, weight_decay=0)\n",
        "scheduler = CosineLRScheduler(optimizer, t_initial=steps, warmup_t=warmup_steps, warmup_lr_init=1e-6, lr_min=2e-8)\n",
        "dt = time.time()\n",
        "model_path = '/kaggle/working/'\n",
        "history = {\n",
        "    \"train_loss\": [],\n",
        "    \"valid_loss\": [],\n",
        "    \"valid_mAP\": [],\n",
        "    \"lr\": [],\n",
        "}\n",
        "best_valid_loss = np.inf\n",
        "criterion = torch.nn.MSELoss()\n"
      ],
      "metadata": {
        "execution": {
          "iopub.execute_input": "2023-10-14T02:44:08.587676Z",
          "iopub.status.busy": "2023-10-14T02:44:08.587410Z",
          "iopub.status.idle": "2023-10-14T02:44:14.212513Z",
          "shell.execute_reply": "2023-10-14T02:44:14.211554Z"
        },
        "papermill": {
          "duration": 5.630784,
          "end_time": "2023-10-14T02:44:14.214621",
          "exception": false,
          "start_time": "2023-10-14T02:44:08.583837",
          "status": "completed"
        },
        "tags": [],
        "id": "0wTu_vpMEhmp"
      },
      "execution_count": null,
      "outputs": [],
      "id": "0wTu_vpMEhmp"
    },
    {
      "cell_type": "code",
      "source": [
        "\n",
        "\n",
        "def evaluate(model: nn.Module, max_chunk_size: int, loader: DataLoader, device, criterion):\n",
        "    model.eval()\n",
        "    valid_loss = 0.0\n",
        "    y_true_full = torch.FloatTensor([]).half()\n",
        "    y_pred_full = torch.FloatTensor([]).half()\n",
        "\n",
        "    for X_batch, y_batch in tqdm(loader, desc=\"Eval\", unit=\"batch\"):\n",
        "        # As some of the sequences are long, we use a chunk-based approach\n",
        "        y_batch = y_batch.to(device, non_blocking=True)\n",
        "        pred = torch.zeros_like(y_batch).to(device, non_blocking=True).half()\n",
        "\n",
        "        # (Re)initialize model's hidden state(s)\n",
        "        h = None\n",
        "\n",
        "        # Number of chunks for this sequence (assuming batch size = 1)\n",
        "        seq_len = X_batch.shape[1]\n",
        "        for i in range(0, seq_len, max_chunk_size):\n",
        "            X_chunk = X_batch[:, i : i + max_chunk_size].float().to(device, non_blocking=True)\n",
        "\n",
        "            y_pred, h = model(X_chunk, h)\n",
        "            h = [hi.detach() for hi in h]\n",
        "            pred[:, i : i + max_chunk_size] = y_pred.half()\n",
        "            del X_chunk\n",
        "            gc.collect()\n",
        "\n",
        "        loss = criterion(pred.float(), y_batch.float())\n",
        "        valid_loss += loss.item()\n",
        "        del pred, loss\n",
        "        gc.collect()\n",
        "\n",
        "    valid_loss /= len(loader)\n",
        "\n",
        "    y_true_full = y_true_full.squeeze(0)\n",
        "    y_pred_full = y_pred_full.squeeze(0)\n",
        "    gc.collect()\n",
        "    return valid_loss\n"
      ],
      "metadata": {
        "_kg_hide-input": true,
        "execution": {
          "iopub.execute_input": "2023-10-14T02:44:14.223033Z",
          "iopub.status.busy": "2023-10-14T02:44:14.222452Z",
          "iopub.status.idle": "2023-10-14T02:44:14.230175Z",
          "shell.execute_reply": "2023-10-14T02:44:14.229259Z"
        },
        "papermill": {
          "duration": 0.013655,
          "end_time": "2023-10-14T02:44:14.231970",
          "exception": false,
          "start_time": "2023-10-14T02:44:14.218315",
          "status": "completed"
        },
        "tags": [],
        "id": "YOA-LMVsEhmp"
      },
      "execution_count": null,
      "outputs": [],
      "id": "YOA-LMVsEhmp"
    },
    {
      "cell_type": "code",
      "source": [
        "\n",
        "\n",
        "BS = 64  # Replace with your actual batch size\n",
        "EPOCHS = 10  # Replace with your actual number of epochs\n",
        "device = torch.device(\"cuda\" if torch.cuda.is_available() else \"cpu\")  # Adjust accordingly\n",
        "\n",
        "train_loader = DataLoader(\n",
        "    train_ds,\n",
        "    batch_size=BS,\n",
        "    sampler=train_sampler,\n",
        "    pin_memory=True,\n",
        "    num_workers=1,\n",
        ")\n",
        "valid_loader = DataLoader(\n",
        "    train_ds,\n",
        "    batch_size=1,\n",
        "    sampler=valid_sampler,\n",
        "    pin_memory=True,\n",
        "    num_workers=1,\n",
        ")\n",
        "\n",
        "for epoch in range(1, EPOCHS + 1):\n",
        "    train_loss = 0.0\n",
        "    n_tot_chunks = 0\n",
        "    pbar = tqdm(train_loader, desc=\"Training\", unit=\"batch\")\n",
        "    model.train()\n",
        "\n",
        "    for step, (X_batch, y_batch) in enumerate(pbar):\n",
        "        y_batch = y_batch.to(device, non_blocking=True)\n",
        "        pred = torch.zeros_like(y_batch).to(device, non_blocking=True)\n",
        "        optimizer.zero_grad()\n",
        "        scheduler.step(step + train_size * epoch)\n",
        "        h = None\n",
        "\n",
        "        seq_len = X_batch.shape[1]\n",
        "        for i in range(0, seq_len, max_chunk_size):\n",
        "            X_chunk = X_batch[:, i : i + max_chunk_size].float()\n",
        "            X_chunk = X_chunk.to(device, non_blocking=True)\n",
        "\n",
        "            y_pred, h = model(X_chunk, h)\n",
        "            h = [hi.detach() for hi in h]\n",
        "            pred[:, i : i + max_chunk_size] = y_pred\n",
        "            del X_chunk, y_pred\n",
        "\n",
        "        loss = criterion(\n",
        "            normalize(pred).float(),\n",
        "            y_batch.float(),\n",
        "        )\n",
        "        loss.backward()\n",
        "        train_loss += loss.item()\n",
        "        n_tot_chunks += 1\n",
        "        pbar.set_description(f'Training: loss = {(train_loss / n_tot_chunks):.2f}')\n",
        "\n",
        "        nn.utils.clip_grad_norm_(model.parameters(), max_norm=1e-1)\n",
        "        optimizer.step()\n",
        "        del pred, loss, y_batch, X_batch, h\n",
        "        gc.collect()\n",
        "\n",
        "    train_loss /= len(train_loader)\n",
        "    del pbar\n",
        "    gc.collect()\n",
        "    ctypes.CDLL(\"libc.so.6\").malloc_trim(0)\n",
        "\n",
        "    if epoch % 1 == 0:\n",
        "        valid_loss = evaluate(\n",
        "            model, max_chunk_size, valid_loader, device, criterion\n",
        "        )\n",
        "\n",
        "        history[\"train_loss\"].append(train_loss)\n",
        "        history[\"valid_loss\"].append(valid_loss)\n",
        "        history[\"lr\"].append(optimizer.param_groups[0][\"lr\"])\n",
        "\n",
        "        if valid_loss < best_valid_loss:\n",
        "            best_valid_loss = valid_loss\n",
        "            torch.save(\n",
        "                model.state_dict(),\n",
        "                os.path.join(model_path, f\"model_best.pth\"),\n",
        "            )\n",
        "\n",
        "        dt = time.time() - dt\n",
        "        print(\n",
        "            f\"{epoch}/{EPOCHS} -- \",\n",
        "            f\"train_loss = {train_loss:.6f} -- \",\n",
        "            f\"valid_loss = {valid_loss:.6f} -- \",\n",
        "            f\"time = {dt:.6f}s\",\n",
        "        )\n",
        "        dt = time.time()\n",
        "\n",
        "plot_history(history, model_path=model_path)\n",
        "history_path = os.path.join(model_path, \"history.json\")\n",
        "with open(history_path, \"w\", encoding=\"utf-8\") as f:\n",
        "    json.dump(history, f, ensure_ascii=False, indent=4)\n"
      ],
      "metadata": {
        "execution": {
          "iopub.execute_input": "2023-10-14T02:44:14.238504Z",
          "iopub.status.busy": "2023-10-14T02:44:14.238257Z",
          "iopub.status.idle": "2023-10-14T04:00:18.469750Z",
          "shell.execute_reply": "2023-10-14T04:00:18.468695Z"
        },
        "papermill": {
          "duration": 4564.237103,
          "end_time": "2023-10-14T04:00:18.471695",
          "exception": false,
          "start_time": "2023-10-14T02:44:14.234592",
          "status": "completed"
        },
        "tags": [],
        "id": "eJxL09pGEhmp",
        "outputId": "dc490c64-37c4-47f4-b5d6-21c57f51246a",
        "colab": {
          "referenced_widgets": [
            "ff095f6b83a04c9e889327882c361b96",
            "b4ff5b6d374b407487abca788583ba7d",
            "bd0c87edeb6045ec91286ceabba1a9de",
            "044df3343008426390bbbd2ece5a9bec",
            "e4e85c3c39204cb4a2802e4e7e107098",
            "0e6426dd151c4b5284b84f0cf766699d",
            "93ab84b5abea4af1ac5821563f6b67c4",
            "2130697772394a80bc16551e9ad2d563",
            "defec6a821854244ba7353bc22eed331",
            "9742413fd0ce4391958aeacd2cb77360"
          ]
        }
      },
      "execution_count": null,
      "outputs": [
        {
          "output_type": "display_data",
          "data": {
            "application/vnd.jupyter.widget-view+json": {
              "model_id": "ff095f6b83a04c9e889327882c361b96",
              "version_major": 2,
              "version_minor": 0
            },
            "text/plain": [
              "Training:   0%|          | 0/249 [00:00<?, ?batch/s]"
            ]
          },
          "metadata": {}
        },
        {
          "output_type": "display_data",
          "data": {
            "application/vnd.jupyter.widget-view+json": {
              "model_id": "b4ff5b6d374b407487abca788583ba7d",
              "version_major": 2,
              "version_minor": 0
            },
            "text/plain": [
              "Eval:   0%|          | 0/28 [00:00<?, ?batch/s]"
            ]
          },
          "metadata": {}
        },
        {
          "name": "stdout",
          "output_type": "stream",
          "text": "1/5 --  train_loss = 0.756781 --  valid_loss = 0.444181 --  time = 892.201147s\n"
        },
        {
          "output_type": "display_data",
          "data": {
            "application/vnd.jupyter.widget-view+json": {
              "model_id": "bd0c87edeb6045ec91286ceabba1a9de",
              "version_major": 2,
              "version_minor": 0
            },
            "text/plain": [
              "Training:   0%|          | 0/249 [00:00<?, ?batch/s]"
            ]
          },
          "metadata": {}
        },
        {
          "output_type": "display_data",
          "data": {
            "application/vnd.jupyter.widget-view+json": {
              "model_id": "044df3343008426390bbbd2ece5a9bec",
              "version_major": 2,
              "version_minor": 0
            },
            "text/plain": [
              "Eval:   0%|          | 0/28 [00:00<?, ?batch/s]"
            ]
          },
          "metadata": {}
        },
        {
          "name": "stdout",
          "output_type": "stream",
          "text": "2/5 --  train_loss = 0.428632 --  valid_loss = 0.381901 --  time = 913.124966s\n"
        },
        {
          "output_type": "display_data",
          "data": {
            "application/vnd.jupyter.widget-view+json": {
              "model_id": "e4e85c3c39204cb4a2802e4e7e107098",
              "version_major": 2,
              "version_minor": 0
            },
            "text/plain": [
              "Training:   0%|          | 0/249 [00:00<?, ?batch/s]"
            ]
          },
          "metadata": {}
        },
        {
          "output_type": "display_data",
          "data": {
            "application/vnd.jupyter.widget-view+json": {
              "model_id": "0e6426dd151c4b5284b84f0cf766699d",
              "version_major": 2,
              "version_minor": 0
            },
            "text/plain": [
              "Eval:   0%|          | 0/28 [00:00<?, ?batch/s]"
            ]
          },
          "metadata": {}
        },
        {
          "name": "stdout",
          "output_type": "stream",
          "text": "3/5 --  train_loss = 0.389664 --  valid_loss = 0.392654 --  time = 917.775679s\n"
        },
        {
          "output_type": "display_data",
          "data": {
            "application/vnd.jupyter.widget-view+json": {
              "model_id": "93ab84b5abea4af1ac5821563f6b67c4",
              "version_major": 2,
              "version_minor": 0
            },
            "text/plain": [
              "Training:   0%|          | 0/249 [00:00<?, ?batch/s]"
            ]
          },
          "metadata": {}
        },
        {
          "output_type": "display_data",
          "data": {
            "application/vnd.jupyter.widget-view+json": {
              "model_id": "2130697772394a80bc16551e9ad2d563",
              "version_major": 2,
              "version_minor": 0
            },
            "text/plain": [
              "Eval:   0%|          | 0/28 [00:00<?, ?batch/s]"
            ]
          },
          "metadata": {}
        },
        {
          "name": "stdout",
          "output_type": "stream",
          "text": "4/5 --  train_loss = 0.363282 --  valid_loss = 0.369494 --  time = 918.199471s\n"
        },
        {
          "output_type": "display_data",
          "data": {
            "application/vnd.jupyter.widget-view+json": {
              "model_id": "defec6a821854244ba7353bc22eed331",
              "version_major": 2,
              "version_minor": 0
            },
            "text/plain": [
              "Training:   0%|          | 0/249 [00:00<?, ?batch/s]"
            ]
          },
          "metadata": {}
        },
        {
          "output_type": "display_data",
          "data": {
            "application/vnd.jupyter.widget-view+json": {
              "model_id": "9742413fd0ce4391958aeacd2cb77360",
              "version_major": 2,
              "version_minor": 0
            },
            "text/plain": [
              "Eval:   0%|          | 0/28 [00:00<?, ?batch/s]"
            ]
          },
          "metadata": {}
        },
        {
          "name": "stdout",
          "output_type": "stream",
          "text": "5/5 --  train_loss = 0.358520 --  valid_loss = 0.369464 --  time = 922.147880s\n"
        },
        {
          "output_type": "display_data",
          "data": {
            "image/png": "[encoded data removed]",
            "text/plain": [
              "<Figure size 640x480 with 1 Axes>"
            ]
          },
          "metadata": {}
        },
        {
          "output_type": "display_data",
          "data": {
            "image/png": "[encoded data removed]",
            "text/plain": [
              "<Figure size 640x480 with 1 Axes>"
            ]
          },
          "metadata": {}
        }
      ],
      "id": "eJxL09pGEhmp"
    }
  ]
}